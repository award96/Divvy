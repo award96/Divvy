{
 "cells": [
  {
   "cell_type": "code",
   "execution_count": 2,
   "id": "0d7094ba",
   "metadata": {},
   "outputs": [],
   "source": [
    "import pandas as pd\n",
    "import numpy as np\n",
    "import matplotlib.pyplot as plt\n",
    "import seaborn as sns\n",
    "import datetime"
   ]
  },
  {
   "cell_type": "code",
   "execution_count": 3,
   "id": "803a2d4a",
   "metadata": {},
   "outputs": [],
   "source": [
    "df = pd.read_csv(\"2021-tripdata.csv\")\n",
    "\n"
   ]
  },
  {
   "cell_type": "code",
   "execution_count": 4,
   "id": "fcb40f70",
   "metadata": {},
   "outputs": [
    {
     "data": {
      "text/html": [
       "<div>\n",
       "<style scoped>\n",
       "    .dataframe tbody tr th:only-of-type {\n",
       "        vertical-align: middle;\n",
       "    }\n",
       "\n",
       "    .dataframe tbody tr th {\n",
       "        vertical-align: top;\n",
       "    }\n",
       "\n",
       "    .dataframe thead th {\n",
       "        text-align: right;\n",
       "    }\n",
       "</style>\n",
       "<table border=\"1\" class=\"dataframe\">\n",
       "  <thead>\n",
       "    <tr style=\"text-align: right;\">\n",
       "      <th></th>\n",
       "      <th>ride_id</th>\n",
       "      <th>rideable_type</th>\n",
       "      <th>started_at</th>\n",
       "      <th>ride_length</th>\n",
       "      <th>day_of_week</th>\n",
       "      <th>member_casual</th>\n",
       "    </tr>\n",
       "  </thead>\n",
       "  <tbody>\n",
       "    <tr>\n",
       "      <th>0</th>\n",
       "      <td>6065D9E82EF52770</td>\n",
       "      <td>classic_bike</td>\n",
       "      <td>2021-02-12 17:56:00 UTC</td>\n",
       "      <td>03:57:54</td>\n",
       "      <td>Friday</td>\n",
       "      <td>casual</td>\n",
       "    </tr>\n",
       "    <tr>\n",
       "      <th>1</th>\n",
       "      <td>9D314AC5569F2196</td>\n",
       "      <td>classic_bike</td>\n",
       "      <td>2021-02-12 11:00:00 UTC</td>\n",
       "      <td>00:59:53</td>\n",
       "      <td>Friday</td>\n",
       "      <td>casual</td>\n",
       "    </tr>\n",
       "    <tr>\n",
       "      <th>2</th>\n",
       "      <td>29163D2EAEE0DCB4</td>\n",
       "      <td>classic_bike</td>\n",
       "      <td>2021-02-19 08:30:00 UTC</td>\n",
       "      <td>01:04:27</td>\n",
       "      <td>Friday</td>\n",
       "      <td>casual</td>\n",
       "    </tr>\n",
       "    <tr>\n",
       "      <th>3</th>\n",
       "      <td>8BDD81CD7A789BF2</td>\n",
       "      <td>classic_bike</td>\n",
       "      <td>2021-02-05 12:07:00 UTC</td>\n",
       "      <td>05:27:50</td>\n",
       "      <td>Friday</td>\n",
       "      <td>member</td>\n",
       "    </tr>\n",
       "    <tr>\n",
       "      <th>4</th>\n",
       "      <td>39A46C32EFB6890B</td>\n",
       "      <td>classic_bike</td>\n",
       "      <td>2021-02-05 17:05:00 UTC</td>\n",
       "      <td>00:56:06</td>\n",
       "      <td>Friday</td>\n",
       "      <td>member</td>\n",
       "    </tr>\n",
       "  </tbody>\n",
       "</table>\n",
       "</div>"
      ],
      "text/plain": [
       "            ride_id rideable_type               started_at ride_length  \\\n",
       "0  6065D9E82EF52770  classic_bike  2021-02-12 17:56:00 UTC    03:57:54   \n",
       "1  9D314AC5569F2196  classic_bike  2021-02-12 11:00:00 UTC    00:59:53   \n",
       "2  29163D2EAEE0DCB4  classic_bike  2021-02-19 08:30:00 UTC    01:04:27   \n",
       "3  8BDD81CD7A789BF2  classic_bike  2021-02-05 12:07:00 UTC    05:27:50   \n",
       "4  39A46C32EFB6890B  classic_bike  2021-02-05 17:05:00 UTC    00:56:06   \n",
       "\n",
       "  day_of_week member_casual  \n",
       "0      Friday        casual  \n",
       "1      Friday        casual  \n",
       "2      Friday        casual  \n",
       "3      Friday        member  \n",
       "4      Friday        member  "
      ]
     },
     "execution_count": 4,
     "metadata": {},
     "output_type": "execute_result"
    }
   ],
   "source": [
    "df.head()"
   ]
  },
  {
   "cell_type": "code",
   "execution_count": 5,
   "id": "13aae168",
   "metadata": {},
   "outputs": [
    {
     "data": {
      "text/plain": [
       "(5644538, 6)"
      ]
     },
     "execution_count": 5,
     "metadata": {},
     "output_type": "execute_result"
    }
   ],
   "source": [
    "df.shape"
   ]
  },
  {
   "cell_type": "markdown",
   "id": "71fb24f6",
   "metadata": {},
   "source": [
    "5.6 million rows, only 6 columns"
   ]
  },
  {
   "cell_type": "code",
   "execution_count": 6,
   "id": "0a5800bb",
   "metadata": {},
   "outputs": [
    {
     "data": {
      "text/plain": [
       "ride_id          object\n",
       "rideable_type    object\n",
       "started_at       object\n",
       "ride_length      object\n",
       "day_of_week      object\n",
       "member_casual    object\n",
       "dtype: object"
      ]
     },
     "execution_count": 6,
     "metadata": {},
     "output_type": "execute_result"
    }
   ],
   "source": [
    "df.dtypes"
   ]
  },
  {
   "cell_type": "markdown",
   "id": "a5c185e7",
   "metadata": {},
   "source": [
    "We will have to convert these data types."
   ]
  },
  {
   "cell_type": "code",
   "execution_count": 7,
   "id": "28eddaf6",
   "metadata": {},
   "outputs": [
    {
     "data": {
      "text/plain": [
       "ride_id          0\n",
       "rideable_type    0\n",
       "started_at       0\n",
       "ride_length      0\n",
       "day_of_week      0\n",
       "member_casual    0\n",
       "dtype: int64"
      ]
     },
     "execution_count": 7,
     "metadata": {},
     "output_type": "execute_result"
    }
   ],
   "source": [
    "df.isnull().sum()"
   ]
  },
  {
   "cell_type": "markdown",
   "id": "4dc67e78",
   "metadata": {},
   "source": [
    "No missing values"
   ]
  },
  {
   "cell_type": "markdown",
   "id": "0c8b7e92",
   "metadata": {},
   "source": [
    "## Data Type Conversion\n",
    "\n",
    "**Categorical**"
   ]
  },
  {
   "cell_type": "code",
   "execution_count": 8,
   "id": "272a4dd8",
   "metadata": {},
   "outputs": [],
   "source": [
    "df['rideable_type'] = df.rideable_type.astype('category')\n",
    "df['day_of_week'] = df.day_of_week.astype('category')\n",
    "df['member_casual'] = df.member_casual.astype('category')"
   ]
  },
  {
   "cell_type": "markdown",
   "id": "b6b701d7",
   "metadata": {},
   "source": [
    "**Date and Time**"
   ]
  },
  {
   "cell_type": "code",
   "execution_count": 9,
   "id": "c347848a",
   "metadata": {},
   "outputs": [],
   "source": [
    "# remove 'UTC' from 'started_at' col\n",
    "df['started_at'] = df.apply(lambda x: x['started_at'].split(\"U\")[0], axis = 1)\n",
    "# convert to datetime data type\n",
    "df['started_at'] = pd.to_datetime(df['started_at'], format = '%Y-%m-%d %H:%M:%S')"
   ]
  },
  {
   "cell_type": "code",
   "execution_count": 10,
   "id": "61b5e960",
   "metadata": {},
   "outputs": [],
   "source": [
    "df['ride_length'] = pd.to_datetime(df['ride_length'], format = '%H:%M:%S').dt.time\n",
    "# Pandas now interprets it as datetime object"
   ]
  },
  {
   "cell_type": "code",
   "execution_count": 11,
   "id": "6a24b0f2",
   "metadata": {},
   "outputs": [
    {
     "data": {
      "text/plain": [
       "ride_id                  object\n",
       "rideable_type          category\n",
       "started_at       datetime64[ns]\n",
       "ride_length              object\n",
       "day_of_week            category\n",
       "member_casual          category\n",
       "dtype: object"
      ]
     },
     "execution_count": 11,
     "metadata": {},
     "output_type": "execute_result"
    }
   ],
   "source": [
    "df.dtypes"
   ]
  },
  {
   "cell_type": "markdown",
   "id": "dc282828",
   "metadata": {},
   "source": [
    "Perfect. We left ride_id alone because it won't be used in regression or plotting"
   ]
  },
  {
   "cell_type": "markdown",
   "id": "d7563a24",
   "metadata": {},
   "source": [
    "## Feature Creation"
   ]
  },
  {
   "cell_type": "markdown",
   "id": "f5f605b0",
   "metadata": {},
   "source": [
    "### ride_time - the Response variable\n",
    "\n",
    "Converting ride length to seconds"
   ]
  },
  {
   "cell_type": "code",
   "execution_count": 12,
   "id": "1895fa52",
   "metadata": {},
   "outputs": [],
   "source": [
    "   def datetime_to_seconds(time):\n",
    "    # ARGS\n",
    "    # time - datetime object\n",
    "    return(time.hour * 60 * 60 + time.minute * 60 + time.second)\n",
    "    \n",
    "    \n",
    "    \n",
    "    "
   ]
  },
  {
   "cell_type": "code",
   "execution_count": 13,
   "id": "506f4b1a",
   "metadata": {},
   "outputs": [],
   "source": [
    "df['ride_time'] = df.apply(lambda x: datetime_to_seconds(x['ride_length']), axis = 1)"
   ]
  },
  {
   "cell_type": "markdown",
   "id": "75275e56",
   "metadata": {},
   "source": [
    "Remove rides that were immediately cancelled. (0 seconds of ride time)"
   ]
  },
  {
   "cell_type": "code",
   "execution_count": 14,
   "id": "bfca7049",
   "metadata": {},
   "outputs": [
    {
     "data": {
      "text/plain": [
       "(5644028, 7)"
      ]
     },
     "execution_count": 14,
     "metadata": {},
     "output_type": "execute_result"
    }
   ],
   "source": [
    "df = df[df.ride_time != 0]\n",
    "df.shape"
   ]
  },
  {
   "cell_type": "code",
   "execution_count": 15,
   "id": "a2c67f97",
   "metadata": {},
   "outputs": [
    {
     "data": {
      "text/plain": [
       "510"
      ]
     },
     "execution_count": 15,
     "metadata": {},
     "output_type": "execute_result"
    }
   ],
   "source": [
    "5644538 - 5644028"
   ]
  },
  {
   "cell_type": "markdown",
   "id": "f6ba067f",
   "metadata": {},
   "source": [
    "That removed 510 rows"
   ]
  },
  {
   "cell_type": "markdown",
   "id": "5b9dd54d",
   "metadata": {},
   "source": [
    "**seconds_since_midnight**\n",
    "\n",
    "Convert \"started_at\" column into a numeric variable representing the time of day the ride took place.\n",
    "\n",
    "**now it can be used in regression**"
   ]
  },
  {
   "cell_type": "code",
   "execution_count": 16,
   "id": "a4183b88",
   "metadata": {},
   "outputs": [],
   "source": [
    "\n",
    "df[\"seconds_since_midnight\"] = df.apply(lambda x: datetime_to_seconds(x[\"started_at\"]), axis = 1)\n"
   ]
  },
  {
   "cell_type": "code",
   "execution_count": null,
   "id": "16385bac",
   "metadata": {},
   "outputs": [],
   "source": []
  },
  {
   "cell_type": "markdown",
   "id": "038aefd8",
   "metadata": {},
   "source": [
    "### days_since_newyear\n",
    "\n",
    "Convert \"started_at\" column into a numeric variable representing the time of year the ride takes place\n",
    "\n",
    "**Now it can be used in regression**"
   ]
  },
  {
   "cell_type": "code",
   "execution_count": 17,
   "id": "03bb9880",
   "metadata": {
    "scrolled": true
   },
   "outputs": [
    {
     "data": {
      "text/html": [
       "<div>\n",
       "<style scoped>\n",
       "    .dataframe tbody tr th:only-of-type {\n",
       "        vertical-align: middle;\n",
       "    }\n",
       "\n",
       "    .dataframe tbody tr th {\n",
       "        vertical-align: top;\n",
       "    }\n",
       "\n",
       "    .dataframe thead th {\n",
       "        text-align: right;\n",
       "    }\n",
       "</style>\n",
       "<table border=\"1\" class=\"dataframe\">\n",
       "  <thead>\n",
       "    <tr style=\"text-align: right;\">\n",
       "      <th></th>\n",
       "      <th>ride_id</th>\n",
       "      <th>rideable_type</th>\n",
       "      <th>started_at</th>\n",
       "      <th>ride_length</th>\n",
       "      <th>day_of_week</th>\n",
       "      <th>member_casual</th>\n",
       "      <th>ride_time</th>\n",
       "      <th>seconds_since_midnight</th>\n",
       "      <th>days_since_newyear</th>\n",
       "    </tr>\n",
       "  </thead>\n",
       "  <tbody>\n",
       "    <tr>\n",
       "      <th>0</th>\n",
       "      <td>6065D9E82EF52770</td>\n",
       "      <td>classic_bike</td>\n",
       "      <td>2021-02-12 17:56:00</td>\n",
       "      <td>03:57:54</td>\n",
       "      <td>Friday</td>\n",
       "      <td>casual</td>\n",
       "      <td>14274</td>\n",
       "      <td>64560</td>\n",
       "      <td>42</td>\n",
       "    </tr>\n",
       "    <tr>\n",
       "      <th>1</th>\n",
       "      <td>9D314AC5569F2196</td>\n",
       "      <td>classic_bike</td>\n",
       "      <td>2021-02-12 11:00:00</td>\n",
       "      <td>00:59:53</td>\n",
       "      <td>Friday</td>\n",
       "      <td>casual</td>\n",
       "      <td>3593</td>\n",
       "      <td>39600</td>\n",
       "      <td>42</td>\n",
       "    </tr>\n",
       "    <tr>\n",
       "      <th>2</th>\n",
       "      <td>29163D2EAEE0DCB4</td>\n",
       "      <td>classic_bike</td>\n",
       "      <td>2021-02-19 08:30:00</td>\n",
       "      <td>01:04:27</td>\n",
       "      <td>Friday</td>\n",
       "      <td>casual</td>\n",
       "      <td>3867</td>\n",
       "      <td>30600</td>\n",
       "      <td>49</td>\n",
       "    </tr>\n",
       "    <tr>\n",
       "      <th>3</th>\n",
       "      <td>8BDD81CD7A789BF2</td>\n",
       "      <td>classic_bike</td>\n",
       "      <td>2021-02-05 12:07:00</td>\n",
       "      <td>05:27:50</td>\n",
       "      <td>Friday</td>\n",
       "      <td>member</td>\n",
       "      <td>19670</td>\n",
       "      <td>43620</td>\n",
       "      <td>35</td>\n",
       "    </tr>\n",
       "    <tr>\n",
       "      <th>4</th>\n",
       "      <td>39A46C32EFB6890B</td>\n",
       "      <td>classic_bike</td>\n",
       "      <td>2021-02-05 17:05:00</td>\n",
       "      <td>00:56:06</td>\n",
       "      <td>Friday</td>\n",
       "      <td>member</td>\n",
       "      <td>3366</td>\n",
       "      <td>61500</td>\n",
       "      <td>35</td>\n",
       "    </tr>\n",
       "    <tr>\n",
       "      <th>5</th>\n",
       "      <td>1759C9D10ABD52F0</td>\n",
       "      <td>classic_bike</td>\n",
       "      <td>2021-02-05 08:41:00</td>\n",
       "      <td>00:40:23</td>\n",
       "      <td>Friday</td>\n",
       "      <td>member</td>\n",
       "      <td>2423</td>\n",
       "      <td>31260</td>\n",
       "      <td>35</td>\n",
       "    </tr>\n",
       "    <tr>\n",
       "      <th>6</th>\n",
       "      <td>196038F4EE88CB5A</td>\n",
       "      <td>classic_bike</td>\n",
       "      <td>2021-02-05 19:01:00</td>\n",
       "      <td>18:32:36</td>\n",
       "      <td>Friday</td>\n",
       "      <td>member</td>\n",
       "      <td>66756</td>\n",
       "      <td>68460</td>\n",
       "      <td>35</td>\n",
       "    </tr>\n",
       "    <tr>\n",
       "      <th>7</th>\n",
       "      <td>7A3044E324455213</td>\n",
       "      <td>classic_bike</td>\n",
       "      <td>2021-02-19 07:43:00</td>\n",
       "      <td>00:59:49</td>\n",
       "      <td>Friday</td>\n",
       "      <td>member</td>\n",
       "      <td>3589</td>\n",
       "      <td>27780</td>\n",
       "      <td>49</td>\n",
       "    </tr>\n",
       "    <tr>\n",
       "      <th>8</th>\n",
       "      <td>A5EF918D544E443E</td>\n",
       "      <td>classic_bike</td>\n",
       "      <td>2021-02-05 17:57:00</td>\n",
       "      <td>00:59:53</td>\n",
       "      <td>Friday</td>\n",
       "      <td>casual</td>\n",
       "      <td>3593</td>\n",
       "      <td>64620</td>\n",
       "      <td>35</td>\n",
       "    </tr>\n",
       "    <tr>\n",
       "      <th>9</th>\n",
       "      <td>31FAE55254BEE127</td>\n",
       "      <td>classic_bike</td>\n",
       "      <td>2021-02-12 09:40:00</td>\n",
       "      <td>03:48:16</td>\n",
       "      <td>Friday</td>\n",
       "      <td>casual</td>\n",
       "      <td>13696</td>\n",
       "      <td>34800</td>\n",
       "      <td>42</td>\n",
       "    </tr>\n",
       "  </tbody>\n",
       "</table>\n",
       "</div>"
      ],
      "text/plain": [
       "            ride_id rideable_type          started_at ride_length day_of_week  \\\n",
       "0  6065D9E82EF52770  classic_bike 2021-02-12 17:56:00    03:57:54      Friday   \n",
       "1  9D314AC5569F2196  classic_bike 2021-02-12 11:00:00    00:59:53      Friday   \n",
       "2  29163D2EAEE0DCB4  classic_bike 2021-02-19 08:30:00    01:04:27      Friday   \n",
       "3  8BDD81CD7A789BF2  classic_bike 2021-02-05 12:07:00    05:27:50      Friday   \n",
       "4  39A46C32EFB6890B  classic_bike 2021-02-05 17:05:00    00:56:06      Friday   \n",
       "5  1759C9D10ABD52F0  classic_bike 2021-02-05 08:41:00    00:40:23      Friday   \n",
       "6  196038F4EE88CB5A  classic_bike 2021-02-05 19:01:00    18:32:36      Friday   \n",
       "7  7A3044E324455213  classic_bike 2021-02-19 07:43:00    00:59:49      Friday   \n",
       "8  A5EF918D544E443E  classic_bike 2021-02-05 17:57:00    00:59:53      Friday   \n",
       "9  31FAE55254BEE127  classic_bike 2021-02-12 09:40:00    03:48:16      Friday   \n",
       "\n",
       "  member_casual  ride_time  seconds_since_midnight  days_since_newyear  \n",
       "0        casual      14274                   64560                  42  \n",
       "1        casual       3593                   39600                  42  \n",
       "2        casual       3867                   30600                  49  \n",
       "3        member      19670                   43620                  35  \n",
       "4        member       3366                   61500                  35  \n",
       "5        member       2423                   31260                  35  \n",
       "6        member      66756                   68460                  35  \n",
       "7        member       3589                   27780                  49  \n",
       "8        casual       3593                   64620                  35  \n",
       "9        casual      13696                   34800                  42  "
      ]
     },
     "execution_count": 17,
     "metadata": {},
     "output_type": "execute_result"
    }
   ],
   "source": [
    "def datetime_to_days(dt):\n",
    "    compare_dt = datetime.datetime(dt.year, 1, 1)\n",
    "    return (dt - compare_dt).days\n",
    "\n",
    "df['days_since_newyear'] = df.apply(lambda x: datetime_to_days(x['started_at']), axis = 1)\n",
    "df.head(10)"
   ]
  },
  {
   "cell_type": "code",
   "execution_count": null,
   "id": "915d90d8",
   "metadata": {},
   "outputs": [],
   "source": []
  },
  {
   "cell_type": "markdown",
   "id": "1c2b4b63",
   "metadata": {},
   "source": [
    "## Predictor Exploration"
   ]
  },
  {
   "cell_type": "markdown",
   "id": "bbd3f6a8",
   "metadata": {},
   "source": [
    "**rideable_type**"
   ]
  },
  {
   "cell_type": "code",
   "execution_count": 18,
   "id": "c58c2600",
   "metadata": {},
   "outputs": [
    {
     "data": {
      "text/plain": [
       "<AxesSubplot:ylabel='Proportion'>"
      ]
     },
     "execution_count": 18,
     "metadata": {},
     "output_type": "execute_result"
    },
    {
     "data": {
      "image/png": "[encoded data removed]",
      "text/plain": [
       "<Figure size 432x288 with 1 Axes>"
      ]
     },
     "metadata": {
      "needs_background": "light"
     },
     "output_type": "display_data"
    }
   ],
   "source": [
    "df['rideable_type'].value_counts(normalize = True).plot(kind='bar', ylabel = \"Proportion\")"
   ]
  },
  {
   "cell_type": "markdown",
   "id": "30d692e1",
   "metadata": {},
   "source": [
    "**day_of_week**"
   ]
  },
  {
   "cell_type": "code",
   "execution_count": 19,
   "id": "b66c981c",
   "metadata": {},
   "outputs": [
    {
     "data": {
      "text/plain": [
       "<AxesSubplot:ylabel='Proportion'>"
      ]
     },
     "execution_count": 19,
     "metadata": {},
     "output_type": "execute_result"
    },
    {
     "data": {
      "image/png": "[encoded data removed]",
      "text/plain": [
       "<Figure size 432x288 with 1 Axes>"
      ]
     },
     "metadata": {
      "needs_background": "light"
     },
     "output_type": "display_data"
    }
   ],
   "source": [
    "df['day_of_week'].value_counts(normalize = True).plot(kind='bar', ylabel = \"Proportion\")"
   ]
  },
  {
   "cell_type": "markdown",
   "id": "fbf0c4f8",
   "metadata": {},
   "source": [
    "**member_casual**"
   ]
  },
  {
   "cell_type": "code",
   "execution_count": 20,
   "id": "87536533",
   "metadata": {},
   "outputs": [
    {
     "data": {
      "text/plain": [
       "<AxesSubplot:ylabel='Proportion'>"
      ]
     },
     "execution_count": 20,
     "metadata": {},
     "output_type": "execute_result"
    },
    {
     "data": {
      "image/png": "[encoded data removed]",
      "text/plain": [
       "<Figure size 432x288 with 1 Axes>"
      ]
     },
     "metadata": {
      "needs_background": "light"
     },
     "output_type": "display_data"
    }
   ],
   "source": [
    "df['member_casual'].value_counts(normalize = True).plot(kind='bar', ylabel = \"Proportion\")"
   ]
  },
  {
   "cell_type": "markdown",
   "id": "21358dd9",
   "metadata": {},
   "source": [
    "**started_at**"
   ]
  },
  {
   "cell_type": "code",
   "execution_count": 21,
   "id": "231e943f",
   "metadata": {},
   "outputs": [
    {
     "data": {
      "image/png": "[encoded data removed]",
      "text/plain": [
       "<Figure size 432x288 with 1 Axes>"
      ]
     },
     "metadata": {
      "needs_background": "light"
     },
     "output_type": "display_data"
    }
   ],
   "source": [
    "df_seasonal_trends = df.groupby(\"rideable_type\")[\"ride_time\"].mean().plot(\n",
    "    ylabel = \"Average Ride Time (seconds)\", \n",
    "    xlabel = \"Rideable Type\",\n",
    "    kind = \"bar\",\n",
    "    ylim = (0, 3500))"
   ]
  },
  {
   "cell_type": "code",
   "execution_count": 22,
   "id": "e14ddcf9",
   "metadata": {},
   "outputs": [
    {
     "data": {
      "text/plain": [
       "<AxesSubplot:xlabel='Hour Ride Started', ylabel='Count'>"
      ]
     },
     "execution_count": 22,
     "metadata": {},
     "output_type": "execute_result"
    },
    {
     "data": {
      "image/png": "[encoded data removed]",
      "text/plain": [
       "<Figure size 432x288 with 1 Axes>"
      ]
     },
     "metadata": {
      "needs_background": "light"
     },
     "output_type": "display_data"
    }
   ],
   "source": [
    "df.groupby(df[\"started_at\"].dt.hour)['started_at'].count().plot(kind=\"bar\", xlabel = \"Hour Ride Started\", ylabel = \"Count\")"
   ]
  },
  {
   "cell_type": "code",
   "execution_count": 41,
   "id": "7a1d810b",
   "metadata": {},
   "outputs": [
    {
     "data": {
      "image/png": "[encoded data removed]",
      "text/plain": [
       "<Figure size 432x288 with 1 Axes>"
      ]
     },
     "metadata": {
      "needs_background": "light"
     },
     "output_type": "display_data"
    }
   ],
   "source": [
    "## Trying to convert the plot from below into something that histograms the days since newyear\n",
    "\n",
    "df_seasonal_trends = df.groupby(\"days_since_newyear\")[\"days_since_newyear\"].count().plot(\n",
    "    ylabel = \"Average Ride Time (seconds)\", \n",
    "    xlabel = \"Day of the Year\")"
   ]
  },
  {
   "cell_type": "code",
   "execution_count": null,
   "id": "b27994c0",
   "metadata": {},
   "outputs": [],
   "source": []
  },
  {
   "cell_type": "markdown",
   "id": "f8bc5ddb",
   "metadata": {},
   "source": [
    "**Correlation and Covariance**\n",
    "\n",
    "The predictors are not collinear enough to warrant action."
   ]
  },
  {
   "cell_type": "code",
   "execution_count": 24,
   "id": "f1769fcf",
   "metadata": {},
   "outputs": [
    {
     "data": {
      "image/png": "[encoded data removed]",
      "text/plain": [
       "<Figure size 1008x576 with 2 Axes>"
      ]
     },
     "metadata": {
      "needs_background": "light"
     },
     "output_type": "display_data"
    }
   ],
   "source": [
    "plt.figure(figsize=(14,8))\n",
    "corr = df.corr()\n",
    "heatmap = sns.heatmap(corr, annot=True, cmap=\"Blues\")"
   ]
  },
  {
   "cell_type": "markdown",
   "id": "87e2ee1d",
   "metadata": {},
   "source": [
    "## Response Variable Exploration"
   ]
  },
  {
   "cell_type": "markdown",
   "id": "eb8aff0e",
   "metadata": {},
   "source": [
    "**Ride Time**\n",
    "\n",
    "Due to how ugly these histograms turned out. I estimated the distribution using a Kernel Density Estimate (KDE) performed in C."
   ]
  },
  {
   "cell_type": "code",
   "execution_count": 25,
   "id": "5cf2f600",
   "metadata": {},
   "outputs": [
    {
     "data": {
      "text/plain": [
       "array([[<AxesSubplot:title={'center':'ride_time'}>]], dtype=object)"
      ]
     },
     "execution_count": 25,
     "metadata": {},
     "output_type": "execute_result"
    },
    {
     "data": {
      "image/png": "[encoded data removed]",
      "text/plain": [
       "<Figure size 432x288 with 1 Axes>"
      ]
     },
     "metadata": {
      "needs_background": "light"
     },
     "output_type": "display_data"
    }
   ],
   "source": [
    "df.hist(column='ride_time')"
   ]
  },
  {
   "cell_type": "markdown",
   "id": "c9fa0100",
   "metadata": {},
   "source": [
    "This histogram is too strongly right skewed to view correctly. I will cut off the top 5% of ride time to better visualize the distribution"
   ]
  },
  {
   "cell_type": "code",
   "execution_count": 26,
   "id": "82fd7114",
   "metadata": {},
   "outputs": [],
   "source": [
    "cutoff = np.quantile(df['ride_time'], 0.95)"
   ]
  },
  {
   "cell_type": "code",
   "execution_count": 27,
   "id": "483264d0",
   "metadata": {},
   "outputs": [],
   "source": [
    "rt_hist_df = df[df.ride_time < cutoff]"
   ]
  },
  {
   "cell_type": "code",
   "execution_count": 28,
   "id": "7b6aa1db",
   "metadata": {},
   "outputs": [
    {
     "data": {
      "text/plain": [
       "array([[<AxesSubplot:title={'center':'ride_time'}>]], dtype=object)"
      ]
     },
     "execution_count": 28,
     "metadata": {},
     "output_type": "execute_result"
    },
    {
     "data": {
      "image/png": "[encoded data removed]",
      "text/plain": [
       "<Figure size 432x288 with 1 Axes>"
      ]
     },
     "metadata": {
      "needs_background": "light"
     },
     "output_type": "display_data"
    }
   ],
   "source": [
    "rt_hist_df.hist(column = 'ride_time')"
   ]
  },
  {
   "cell_type": "markdown",
   "id": "4709b5d0",
   "metadata": {},
   "source": [
    "## Response VS Predictor Exploration\n",
    "\n",
    "Now instead of histogramming the predictors, we explore their relationship with the response variable."
   ]
  },
  {
   "cell_type": "markdown",
   "id": "60057adb",
   "metadata": {},
   "source": [
    "**days_since_newyear** and **seconds_since_midnight**\n",
    "\n",
    "To make the plots readable we will be converting these two predictors back into datetime objects. We don't use the original axes because we only need the day for the first plot, and we only need the time for the second plot."
   ]
  },
  {
   "cell_type": "code",
   "execution_count": 29,
   "id": "a53b166e",
   "metadata": {},
   "outputs": [],
   "source": [
    "df[\"start_day\"] = df.apply(lambda x: x[\"started_at\"].date(), axis = 1)\n",
    "\n"
   ]
  },
  {
   "cell_type": "code",
   "execution_count": 30,
   "id": "c282224d",
   "metadata": {},
   "outputs": [],
   "source": [
    "df[\"start_time\"] = df.apply(lambda x: x[\"started_at\"].time(), axis = 1)"
   ]
  },
  {
   "cell_type": "code",
   "execution_count": null,
   "id": "01dd386d",
   "metadata": {},
   "outputs": [],
   "source": []
  },
  {
   "cell_type": "code",
   "execution_count": 31,
   "id": "2de6ddab",
   "metadata": {},
   "outputs": [
    {
     "data": {
      "image/png": "[encoded data removed]",
      "text/plain": [
       "<Figure size 864x576 with 1 Axes>"
      ]
     },
     "metadata": {
      "needs_background": "light"
     },
     "output_type": "display_data"
    }
   ],
   "source": [
    "df_seasonal_trends = df.groupby(\"start_day\")[\"ride_time\"].mean().plot(\n",
    "    ylabel = \"Average Ride Time (seconds)\", \n",
    "    xlabel = \"Day of the Year\",\n",
    "    ylim = (0, 3200),\n",
    "    figsize = (12,8))"
   ]
  },
  {
   "cell_type": "code",
   "execution_count": null,
   "id": "ba3f890e",
   "metadata": {},
   "outputs": [],
   "source": [
    "\n"
   ]
  },
  {
   "cell_type": "code",
   "execution_count": 32,
   "id": "ce754a4d",
   "metadata": {},
   "outputs": [
    {
     "data": {
      "image/png": "[encoded data removed]",
      "text/plain": [
       "<Figure size 864x576 with 1 Axes>"
      ]
     },
     "metadata": {
      "needs_background": "light"
     },
     "output_type": "display_data"
    }
   ],
   "source": [
    "x_ticks_daily = pd.date_range(\"2020-01-01\", \"2020-01-02\", freq = \"2H\").format('%H:%M:%S')[1:-1]\n",
    "\n",
    "df_daily_trends = df.groupby(\"start_time\")[\"ride_time\"].mean().plot(\n",
    "    ylabel = \"Average Ride Time (seconds)\", \n",
    "    xlabel = \"Time of Day\",\n",
    "    xticks = x_ticks_daily,\n",
    "    ylim = (0, 2500),\n",
    "    figsize = (12,8))"
   ]
  },
  {
   "cell_type": "markdown",
   "id": "8535797f",
   "metadata": {},
   "source": [
    "**member_casual**"
   ]
  },
  {
   "cell_type": "code",
   "execution_count": 33,
   "id": "c28723b6",
   "metadata": {},
   "outputs": [
    {
     "data": {
      "image/png": "[encoded data removed]",
      "text/plain": [
       "<Figure size 432x288 with 1 Axes>"
      ]
     },
     "metadata": {
      "needs_background": "light"
     },
     "output_type": "display_data"
    }
   ],
   "source": [
    "df_seasonal_trends = df.groupby(\"member_casual\")[\"ride_time\"].mean().plot(\n",
    "    ylabel = \"Average Ride Time (seconds)\", \n",
    "    xlabel = \"Is a Member\",\n",
    "    kind = \"bar\",\n",
    "    ylim = (0,1750))"
   ]
  },
  {
   "cell_type": "markdown",
   "id": "8673958e",
   "metadata": {},
   "source": [
    "**day_of_week**"
   ]
  },
  {
   "cell_type": "code",
   "execution_count": 34,
   "id": "0f9b0bac",
   "metadata": {},
   "outputs": [
    {
     "data": {
      "image/png": "[encoded data removed]",
      "text/plain": [
       "<Figure size 432x288 with 1 Axes>"
      ]
     },
     "metadata": {
      "needs_background": "light"
     },
     "output_type": "display_data"
    }
   ],
   "source": [
    "df_seasonal_trends = df.groupby(\"day_of_week\")[\"ride_time\"].mean().plot(\n",
    "    ylabel = \"Average Ride Time (seconds)\", \n",
    "    xlabel = \"Day of the Week\",\n",
    "    kind = \"bar\",\n",
    "    ylim = (0, 1500))"
   ]
  },
  {
   "cell_type": "markdown",
   "id": "50fc4bc9",
   "metadata": {},
   "source": [
    "**rideable_type**"
   ]
  },
  {
   "cell_type": "code",
   "execution_count": 35,
   "id": "7734f636",
   "metadata": {},
   "outputs": [
    {
     "data": {
      "image/png": "[encoded data removed]",
      "text/plain": [
       "<Figure size 432x288 with 1 Axes>"
      ]
     },
     "metadata": {
      "needs_background": "light"
     },
     "output_type": "display_data"
    }
   ],
   "source": [
    "df_seasonal_trends = df.groupby(\"rideable_type\")[\"ride_time\"].mean().plot(\n",
    "    ylabel = \"Average Ride Time (seconds)\", \n",
    "    xlabel = \"Rideable Type\",\n",
    "    kind = \"bar\",\n",
    "    ylim = (0, 3500))"
   ]
  },
  {
   "cell_type": "markdown",
   "id": "68c28be3",
   "metadata": {},
   "source": [
    "### Binary Label Encoding\n",
    "\n"
   ]
  },
  {
   "cell_type": "code",
   "execution_count": 42,
   "id": "53f60351",
   "metadata": {},
   "outputs": [
    {
     "data": {
      "text/html": [
       "<div>\n",
       "<style scoped>\n",
       "    .dataframe tbody tr th:only-of-type {\n",
       "        vertical-align: middle;\n",
       "    }\n",
       "\n",
       "    .dataframe tbody tr th {\n",
       "        vertical-align: top;\n",
       "    }\n",
       "\n",
       "    .dataframe thead th {\n",
       "        text-align: right;\n",
       "    }\n",
       "</style>\n",
       "<table border=\"1\" class=\"dataframe\">\n",
       "  <thead>\n",
       "    <tr style=\"text-align: right;\">\n",
       "      <th></th>\n",
       "      <th>ride_id</th>\n",
       "      <th>rideable_type</th>\n",
       "      <th>started_at</th>\n",
       "      <th>ride_length</th>\n",
       "      <th>day_of_week</th>\n",
       "      <th>member_casual</th>\n",
       "      <th>ride_time</th>\n",
       "      <th>seconds_since_midnight</th>\n",
       "      <th>days_since_newyear</th>\n",
       "      <th>start_day</th>\n",
       "      <th>start_time</th>\n",
       "    </tr>\n",
       "  </thead>\n",
       "  <tbody>\n",
       "    <tr>\n",
       "      <th>0</th>\n",
       "      <td>6065D9E82EF52770</td>\n",
       "      <td>classic_bike</td>\n",
       "      <td>2021-02-12 17:56:00</td>\n",
       "      <td>03:57:54</td>\n",
       "      <td>Friday</td>\n",
       "      <td>False</td>\n",
       "      <td>14274</td>\n",
       "      <td>64560</td>\n",
       "      <td>42</td>\n",
       "      <td>2021-02-12</td>\n",
       "      <td>17:56:00</td>\n",
       "    </tr>\n",
       "    <tr>\n",
       "      <th>1</th>\n",
       "      <td>9D314AC5569F2196</td>\n",
       "      <td>classic_bike</td>\n",
       "      <td>2021-02-12 11:00:00</td>\n",
       "      <td>00:59:53</td>\n",
       "      <td>Friday</td>\n",
       "      <td>False</td>\n",
       "      <td>3593</td>\n",
       "      <td>39600</td>\n",
       "      <td>42</td>\n",
       "      <td>2021-02-12</td>\n",
       "      <td>11:00:00</td>\n",
       "    </tr>\n",
       "    <tr>\n",
       "      <th>2</th>\n",
       "      <td>29163D2EAEE0DCB4</td>\n",
       "      <td>classic_bike</td>\n",
       "      <td>2021-02-19 08:30:00</td>\n",
       "      <td>01:04:27</td>\n",
       "      <td>Friday</td>\n",
       "      <td>False</td>\n",
       "      <td>3867</td>\n",
       "      <td>30600</td>\n",
       "      <td>49</td>\n",
       "      <td>2021-02-19</td>\n",
       "      <td>08:30:00</td>\n",
       "    </tr>\n",
       "    <tr>\n",
       "      <th>3</th>\n",
       "      <td>8BDD81CD7A789BF2</td>\n",
       "      <td>classic_bike</td>\n",
       "      <td>2021-02-05 12:07:00</td>\n",
       "      <td>05:27:50</td>\n",
       "      <td>Friday</td>\n",
       "      <td>True</td>\n",
       "      <td>19670</td>\n",
       "      <td>43620</td>\n",
       "      <td>35</td>\n",
       "      <td>2021-02-05</td>\n",
       "      <td>12:07:00</td>\n",
       "    </tr>\n",
       "    <tr>\n",
       "      <th>4</th>\n",
       "      <td>39A46C32EFB6890B</td>\n",
       "      <td>classic_bike</td>\n",
       "      <td>2021-02-05 17:05:00</td>\n",
       "      <td>00:56:06</td>\n",
       "      <td>Friday</td>\n",
       "      <td>True</td>\n",
       "      <td>3366</td>\n",
       "      <td>61500</td>\n",
       "      <td>35</td>\n",
       "      <td>2021-02-05</td>\n",
       "      <td>17:05:00</td>\n",
       "    </tr>\n",
       "  </tbody>\n",
       "</table>\n",
       "</div>"
      ],
      "text/plain": [
       "            ride_id rideable_type          started_at ride_length day_of_week  \\\n",
       "0  6065D9E82EF52770  classic_bike 2021-02-12 17:56:00    03:57:54      Friday   \n",
       "1  9D314AC5569F2196  classic_bike 2021-02-12 11:00:00    00:59:53      Friday   \n",
       "2  29163D2EAEE0DCB4  classic_bike 2021-02-19 08:30:00    01:04:27      Friday   \n",
       "3  8BDD81CD7A789BF2  classic_bike 2021-02-05 12:07:00    05:27:50      Friday   \n",
       "4  39A46C32EFB6890B  classic_bike 2021-02-05 17:05:00    00:56:06      Friday   \n",
       "\n",
       "   member_casual  ride_time  seconds_since_midnight  days_since_newyear  \\\n",
       "0          False      14274                   64560                  42   \n",
       "1          False       3593                   39600                  42   \n",
       "2          False       3867                   30600                  49   \n",
       "3           True      19670                   43620                  35   \n",
       "4           True       3366                   61500                  35   \n",
       "\n",
       "    start_day start_time  \n",
       "0  2021-02-12   17:56:00  \n",
       "1  2021-02-12   11:00:00  \n",
       "2  2021-02-19   08:30:00  \n",
       "3  2021-02-05   12:07:00  \n",
       "4  2021-02-05   17:05:00  "
      ]
     },
     "execution_count": 42,
     "metadata": {},
     "output_type": "execute_result"
    }
   ],
   "source": [
    "encoding = {\n",
    "             \"member_casual\":\n",
    "                 {\"member\": True,\n",
    "                 \"casual\": False}\n",
    "            }\n",
    "df = df.replace(encoding)\n",
    "df.head()"
   ]
  },
  {
   "cell_type": "markdown",
   "id": "5c4e484f",
   "metadata": {},
   "source": [
    "Remove the unnecessary columns before saving to pickle. This DF will only be used for regression"
   ]
  },
  {
   "cell_type": "code",
   "execution_count": 37,
   "id": "c9dc6793",
   "metadata": {},
   "outputs": [],
   "source": [
    "df_pickle = df.drop(['started_at','ride_length', \"start_day\", \"start_time\"], axis=1)"
   ]
  },
  {
   "cell_type": "code",
   "execution_count": 38,
   "id": "afe60f03",
   "metadata": {},
   "outputs": [
    {
     "data": {
      "text/html": [
       "<div>\n",
       "<style scoped>\n",
       "    .dataframe tbody tr th:only-of-type {\n",
       "        vertical-align: middle;\n",
       "    }\n",
       "\n",
       "    .dataframe tbody tr th {\n",
       "        vertical-align: top;\n",
       "    }\n",
       "\n",
       "    .dataframe thead th {\n",
       "        text-align: right;\n",
       "    }\n",
       "</style>\n",
       "<table border=\"1\" class=\"dataframe\">\n",
       "  <thead>\n",
       "    <tr style=\"text-align: right;\">\n",
       "      <th></th>\n",
       "      <th>ride_id</th>\n",
       "      <th>rideable_type</th>\n",
       "      <th>day_of_week</th>\n",
       "      <th>member_casual</th>\n",
       "      <th>ride_time</th>\n",
       "      <th>seconds_since_midnight</th>\n",
       "      <th>days_since_newyear</th>\n",
       "    </tr>\n",
       "  </thead>\n",
       "  <tbody>\n",
       "    <tr>\n",
       "      <th>0</th>\n",
       "      <td>6065D9E82EF52770</td>\n",
       "      <td>classic_bike</td>\n",
       "      <td>Friday</td>\n",
       "      <td>False</td>\n",
       "      <td>14274</td>\n",
       "      <td>64560</td>\n",
       "      <td>42</td>\n",
       "    </tr>\n",
       "    <tr>\n",
       "      <th>1</th>\n",
       "      <td>9D314AC5569F2196</td>\n",
       "      <td>classic_bike</td>\n",
       "      <td>Friday</td>\n",
       "      <td>False</td>\n",
       "      <td>3593</td>\n",
       "      <td>39600</td>\n",
       "      <td>42</td>\n",
       "    </tr>\n",
       "    <tr>\n",
       "      <th>2</th>\n",
       "      <td>29163D2EAEE0DCB4</td>\n",
       "      <td>classic_bike</td>\n",
       "      <td>Friday</td>\n",
       "      <td>False</td>\n",
       "      <td>3867</td>\n",
       "      <td>30600</td>\n",
       "      <td>49</td>\n",
       "    </tr>\n",
       "    <tr>\n",
       "      <th>3</th>\n",
       "      <td>8BDD81CD7A789BF2</td>\n",
       "      <td>classic_bike</td>\n",
       "      <td>Friday</td>\n",
       "      <td>True</td>\n",
       "      <td>19670</td>\n",
       "      <td>43620</td>\n",
       "      <td>35</td>\n",
       "    </tr>\n",
       "    <tr>\n",
       "      <th>4</th>\n",
       "      <td>39A46C32EFB6890B</td>\n",
       "      <td>classic_bike</td>\n",
       "      <td>Friday</td>\n",
       "      <td>True</td>\n",
       "      <td>3366</td>\n",
       "      <td>61500</td>\n",
       "      <td>35</td>\n",
       "    </tr>\n",
       "    <tr>\n",
       "      <th>5</th>\n",
       "      <td>1759C9D10ABD52F0</td>\n",
       "      <td>classic_bike</td>\n",
       "      <td>Friday</td>\n",
       "      <td>True</td>\n",
       "      <td>2423</td>\n",
       "      <td>31260</td>\n",
       "      <td>35</td>\n",
       "    </tr>\n",
       "    <tr>\n",
       "      <th>6</th>\n",
       "      <td>196038F4EE88CB5A</td>\n",
       "      <td>classic_bike</td>\n",
       "      <td>Friday</td>\n",
       "      <td>True</td>\n",
       "      <td>66756</td>\n",
       "      <td>68460</td>\n",
       "      <td>35</td>\n",
       "    </tr>\n",
       "    <tr>\n",
       "      <th>7</th>\n",
       "      <td>7A3044E324455213</td>\n",
       "      <td>classic_bike</td>\n",
       "      <td>Friday</td>\n",
       "      <td>True</td>\n",
       "      <td>3589</td>\n",
       "      <td>27780</td>\n",
       "      <td>49</td>\n",
       "    </tr>\n",
       "    <tr>\n",
       "      <th>8</th>\n",
       "      <td>A5EF918D544E443E</td>\n",
       "      <td>classic_bike</td>\n",
       "      <td>Friday</td>\n",
       "      <td>False</td>\n",
       "      <td>3593</td>\n",
       "      <td>64620</td>\n",
       "      <td>35</td>\n",
       "    </tr>\n",
       "    <tr>\n",
       "      <th>9</th>\n",
       "      <td>31FAE55254BEE127</td>\n",
       "      <td>classic_bike</td>\n",
       "      <td>Friday</td>\n",
       "      <td>False</td>\n",
       "      <td>13696</td>\n",
       "      <td>34800</td>\n",
       "      <td>42</td>\n",
       "    </tr>\n",
       "  </tbody>\n",
       "</table>\n",
       "</div>"
      ],
      "text/plain": [
       "            ride_id rideable_type day_of_week  member_casual  ride_time  \\\n",
       "0  6065D9E82EF52770  classic_bike      Friday          False      14274   \n",
       "1  9D314AC5569F2196  classic_bike      Friday          False       3593   \n",
       "2  29163D2EAEE0DCB4  classic_bike      Friday          False       3867   \n",
       "3  8BDD81CD7A789BF2  classic_bike      Friday           True      19670   \n",
       "4  39A46C32EFB6890B  classic_bike      Friday           True       3366   \n",
       "5  1759C9D10ABD52F0  classic_bike      Friday           True       2423   \n",
       "6  196038F4EE88CB5A  classic_bike      Friday           True      66756   \n",
       "7  7A3044E324455213  classic_bike      Friday           True       3589   \n",
       "8  A5EF918D544E443E  classic_bike      Friday          False       3593   \n",
       "9  31FAE55254BEE127  classic_bike      Friday          False      13696   \n",
       "\n",
       "   seconds_since_midnight  days_since_newyear  \n",
       "0                   64560                  42  \n",
       "1                   39600                  42  \n",
       "2                   30600                  49  \n",
       "3                   43620                  35  \n",
       "4                   61500                  35  \n",
       "5                   31260                  35  \n",
       "6                   68460                  35  \n",
       "7                   27780                  49  \n",
       "8                   64620                  35  \n",
       "9                   34800                  42  "
      ]
     },
     "execution_count": 38,
     "metadata": {},
     "output_type": "execute_result"
    }
   ],
   "source": [
    "df_pickle.head(10)"
   ]
  },
  {
   "cell_type": "code",
   "execution_count": 39,
   "id": "7c2dab76",
   "metadata": {},
   "outputs": [
    {
     "data": {
      "text/plain": [
       "ride_id                     object\n",
       "rideable_type             category\n",
       "day_of_week               category\n",
       "member_casual                 bool\n",
       "ride_time                    int64\n",
       "seconds_since_midnight       int64\n",
       "days_since_newyear           int64\n",
       "dtype: object"
      ]
     },
     "execution_count": 39,
     "metadata": {},
     "output_type": "execute_result"
    }
   ],
   "source": [
    "df_pickle.dtypes"
   ]
  },
  {
   "cell_type": "markdown",
   "id": "96d2adfa",
   "metadata": {},
   "source": [
    "All of these datatypes are what we wanted."
   ]
  },
  {
   "cell_type": "markdown",
   "id": "ef656a4d",
   "metadata": {},
   "source": [
    "## Saving Dataframe\n",
    "\n",
    "Now we will save the dataframe as a pickle for regression. *This way the data types will come pre-loaded*."
   ]
  },
  {
   "cell_type": "code",
   "execution_count": 40,
   "id": "3aa2e7a6",
   "metadata": {},
   "outputs": [],
   "source": [
    "df_pickle.to_pickle(\"2021-tripdata.pkl\")"
   ]
  }
 ],
 "metadata": {
  "kernelspec": {
   "display_name": "Python 3 (ipykernel)",
   "language": "python",
   "name": "python3"
  },
  "language_info": {
   "codemirror_mode": {
    "name": "ipython",
    "version": 3
   },
   "file_extension": ".py",
   "mimetype": "text/x-python",
   "name": "python",
   "nbconvert_exporter": "python",
   "pygments_lexer": "ipython3",
   "version": "3.8.12"
  }
 },
 "nbformat": 4,
 "nbformat_minor": 5
}
